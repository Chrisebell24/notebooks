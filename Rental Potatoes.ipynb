{
 "cells": [
  {
   "cell_type": "markdown",
   "metadata": {},
   "source": [
    "# Potato Companionship for Rent!\n",
    "\n",
    "A startup wants to get rich quickly. The plan is simple: Potato buddies for rent."
   ]
  },
  {
   "cell_type": "markdown",
   "metadata": {},
   "source": [
    "## Plotting Potato usage\n",
    "We are unable to track the potatoes on real time, unfortunately. But we are able to track their location once they get attached to Potato Chargers.\n"
   ]
  },
  {
   "cell_type": "code",
   "execution_count": null,
   "metadata": {
    "collapsed": true
   },
   "outputs": [],
   "source": [
    "from bokeh.io import output_file, show\n",
    "from bokeh.models import (\n",
    "  GMapPlot, GMapOptions, ColumnDataSource, Circle, Range1d, PanTool, WheelZoomTool, BoxSelectTool\n",
    ")\n",
    "from helpercode import generateTimeData, generateLocations\n",
    "from scipy import stats as spst "
   ]
  },
  {
   "cell_type": "code",
   "execution_count": null,
   "metadata": {
    "collapsed": true
   },
   "outputs": [],
   "source": [
    "api_key='someapikey'\n",
    "samples=10000\n",
    "radius=10 #km\n",
    "center={'lat':57.7090,'lon':11.9745} #centerpoint"
   ]
  },
  {
   "cell_type": "code",
   "execution_count": null,
   "metadata": {},
   "outputs": [],
   "source": [
    "#fetch potato booking data. startdate, enddate, length of booking.\n",
    "dataTimeDict=generateTimeData(spst.genpareto, 1.,{'loc':1800.,'scale':3.}, samples)"
   ]
  },
  {
   "cell_type": "code",
   "execution_count": null,
   "metadata": {
    "collapsed": true
   },
   "outputs": [],
   "source": [
    "dataLocationDict=generateLocations(samples,radius,center)"
   ]
  },
  {
   "cell_type": "code",
   "execution_count": null,
   "metadata": {},
   "outputs": [],
   "source": [
    "dataLocationDict.keys()"
   ]
  },
  {
   "cell_type": "code",
   "execution_count": null,
   "metadata": {
    "collapsed": true
   },
   "outputs": [],
   "source": [
    "#Starting point is the geodata example from Bokeh: \n",
    "#https://bokeh.pydata.org/en/latest/docs/user_guide/geo.html\n",
    "map_options = GMapOptions(lat=57.709041, lng=11.974550, \n",
    "                          map_type=\"roadmap\", zoom=11)\n",
    "\n",
    "plot = GMapPlot(x_range=Range1d(), y_range=Range1d(), \n",
    "                map_options=map_options)\n",
    "\n",
    "plot.title.text = \"GBG radius {} \"\n",
    "\n",
    "plot.api_key = api_key\n",
    "\n",
    "source = ColumnDataSource(\n",
    "    data=dict(\n",
    "        lat=[30.29, 30.20, 30.29],\n",
    "        lon=[-97.70, -97.74, -97.78],\n",
    "    )\n",
    ")\n",
    "\n",
    "circle = Circle(x=\"lon\", y=\"lat\", size=15, fill_color=\"blue\", fill_alpha=0.8, line_color=None)\n",
    "plot.add_glyph(source, circle)\n",
    "\n",
    "plot.add_tools(PanTool(), WheelZoomTool(), BoxSelectTool())\n",
    "output_file(\"gmap_plot.html\")\n",
    "show(plot)"
   ]
  },
  {
   "cell_type": "code",
   "execution_count": null,
   "metadata": {
    "collapsed": true
   },
   "outputs": [],
   "source": []
  }
 ],
 "metadata": {
  "anaconda-cloud": {},
  "kernelspec": {
   "display_name": "Python 3",
   "language": "python",
   "name": "python3"
  },
  "language_info": {
   "codemirror_mode": {
    "name": "ipython",
    "version": 3
   },
   "file_extension": ".py",
   "mimetype": "text/x-python",
   "name": "python",
   "nbconvert_exporter": "python",
   "pygments_lexer": "ipython3",
   "version": "3.6.1"
  }
 },
 "nbformat": 4,
 "nbformat_minor": 1
}
