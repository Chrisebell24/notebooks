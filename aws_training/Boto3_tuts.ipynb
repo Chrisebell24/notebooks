{
 "cells": [
  {
   "cell_type": "markdown",
   "metadata": {},
   "source": [
    "# Some Boto3 tutorials\n",
    "Step 0: get the CLI for AWS, setup credentials. See here: https://boto3.readthedocs.io/en/latest/guide/quickstart.html"
   ]
  },
  {
   "cell_type": "code",
   "execution_count": 4,
   "metadata": {},
   "outputs": [],
   "source": [
    "import boto3"
   ]
  },
  {
   "cell_type": "markdown",
   "metadata": {},
   "source": [
    "# SQS\n",
    "\n",
    "Message queues for communicating between stuff, incluiding lambdas and anything else. \n",
    "\n",
    "Step 0: Make a message queue e.g.: aws sqs create-queue --queue-name MyQueue --attributes file://create-queue.json \n",
    "or see https://docs.aws.amazon.com/cli/latest/reference/sqs/create-queue.html\n",
    "\n",
    "\n",
    "Endgame: https://cloudonaut.io/integrate-sqs-and-lambda-serverless-architecture-for-asynchronous-workloads/"
   ]
  },
  {
   "cell_type": "code",
   "execution_count": 5,
   "metadata": {},
   "outputs": [],
   "source": [
    "#{\"QueueUrl\": \"https://eu-west-1.queue.amazonaws.com/901610709743/boto_tut_sqs\"}\n",
    "sqs = boto3.client('sqs') #make the client\n",
    "queue_url = 'https://eu-west-1.queue.amazonaws.com/901610709743/boto_tut_sqs' #use a url for the queue"
   ]
  },
  {
   "cell_type": "code",
   "execution_count": 7,
   "metadata": {},
   "outputs": [],
   "source": [
    "# Send a message to an SQS queue\n",
    "response = sqs.send_message(\n",
    "    QueueUrl=queue_url,\n",
    "    DelaySeconds=10,\n",
    "    MessageAttributes={'Title': {'DataType': 'String',\n",
    "                                 'StringValue': 'Solanum tuberosum'\n",
    "                                }\n",
    "                      },\n",
    "    MessageBody=('Thats the non-vulgar name of potatoes, you barbarian.')\n",
    ")"
   ]
  },
  {
   "cell_type": "code",
   "execution_count": null,
   "metadata": {},
   "outputs": [],
   "source": [
    "print(response['MessageId'])"
   ]
  },
  {
   "cell_type": "markdown",
   "metadata": {},
   "source": [
    "# S3\n",
    "Being able to store/get data in some way. "
   ]
  },
  {
   "cell_type": "markdown",
   "metadata": {},
   "source": [
    "# EC2\n",
    "And then you need some machines to have your dirty deeds done dirt cheap."
   ]
  },
  {
   "cell_type": "markdown",
   "metadata": {},
   "source": [
    "# IAM\n",
    "If we ever need to?"
   ]
  },
  {
   "cell_type": "markdown",
   "metadata": {},
   "source": []
  }
 ],
 "metadata": {
  "kernelspec": {
   "display_name": "Python 3",
   "language": "python",
   "name": "python3"
  },
  "language_info": {
   "codemirror_mode": {
    "name": "ipython",
    "version": 3
   },
   "file_extension": ".py",
   "mimetype": "text/x-python",
   "name": "python",
   "nbconvert_exporter": "python",
   "pygments_lexer": "ipython3",
   "version": "3.6.4"
  }
 },
 "nbformat": 4,
 "nbformat_minor": 2
}
