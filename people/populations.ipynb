{
 "cells": [
  {
   "cell_type": "markdown",
   "metadata": {},
   "source": [
    "# Testing different user models, spec models and purchasing functions"
   ]
  },
  {
   "cell_type": "code",
   "execution_count": 45,
   "metadata": {
    "collapsed": true
   },
   "outputs": [],
   "source": [
    "import numpy as np\n",
    "from helpers import makePopulation, generatePurchaseData\n",
    "from populationModels import pop_crude\n",
    "from sklearn.cluster import AgglomerativeClustering"
   ]
  },
  {
   "cell_type": "markdown",
   "metadata": {},
   "source": [
    "## Configuring crude population clusters"
   ]
  },
  {
   "cell_type": "code",
   "execution_count": 46,
   "metadata": {
    "collapsed": true
   },
   "outputs": [],
   "source": [
    "    c1={\n",
    "            \"something\": (1, 1),\n",
    "            \"age\": (20, 35),\n",
    "            \"postcode\": (41760,\n",
    "                         41799),\n",
    "            \"percentage\": 0.25\n",
    "        }\n",
    "\n",
    "    c2={\n",
    "            \"something\": (0, 5),\n",
    "            \"age\": (30, 55),\n",
    "            \"postcode\": (41760,\n",
    "                         41799),\n",
    "            \"percentage\": 0.5\n",
    "        }\n",
    "\n",
    "    c3={\n",
    "            \"something\": (0, 20),\n",
    "            \"age\": (23, 55),\n",
    "            \"postcode\": (41260,\n",
    "                         41299),\n",
    "            \"percentage\": 0.25\n",
    "        }"
   ]
  },
  {
   "cell_type": "code",
   "execution_count": 47,
   "metadata": {},
   "outputs": [],
   "source": [
    "population=makePopulation(100,[\"something\",\"age\",\"postcode\"],\n",
    "                          pop_crude,\n",
    "                          c1=c1,\n",
    "                          c2=c2,\n",
    "                          c3=c3)"
   ]
  },
  {
   "cell_type": "code",
   "execution_count": 48,
   "metadata": {},
   "outputs": [
    {
     "name": "stdout",
     "output_type": "stream",
     "text": [
      "dict_keys(['something', 'age', 'postcode', 'cluster_label'])\n",
      "3\n"
     ]
    }
   ],
   "source": [
    "print (population.keys())\n",
    "n_clusters=len(set(population[\"cluster_label\"]))\n",
    "print (n_clusters)"
   ]
  },
  {
   "cell_type": "markdown",
   "metadata": {},
   "source": [
    "## Agglomerative Clustering\n",
    "\n",
    "Borrowing example from: http://scikit-learn.org/stable/auto_examples/cluster/plot_digits_linkage.html#sphx-glr-auto-examples-cluster-plot-digits-linkage-py"
   ]
  },
  {
   "cell_type": "code",
   "execution_count": 49,
   "metadata": {},
   "outputs": [
    {
     "data": {
      "text/plain": [
       "AgglomerativeClustering(affinity='euclidean', compute_full_tree='auto',\n",
       "            connectivity=None, linkage='ward',\n",
       "            memory=Memory(cachedir=None), n_clusters=3,\n",
       "            pooling_func=<function mean at 0x7fc0865066a8>)"
      ]
     },
     "execution_count": 49,
     "metadata": {},
     "output_type": "execute_result"
    }
   ],
   "source": [
    "fittable=np.array([population[\"something\"],\n",
    "                   population[\"postcode\"],\n",
    "                   population[\"age\"]]).T\n",
    "alg = AgglomerativeClustering(n_clusters=n_clusters, linkage='ward')\n",
    "alg.fit(fittable)"
   ]
  },
  {
   "cell_type": "code",
   "execution_count": 50,
   "metadata": {},
   "outputs": [
    {
     "name": "stdout",
     "output_type": "stream",
     "text": [
      "Outs:[(2, 'c1'), (0, 'c1'), (2, 'c1'), (2, 'c1'), (2, 'c1'), (0, 'c1'), (0, 'c1'), (2, 'c1'), (2, 'c1'), (2, 'c1'), (0, 'c1'), (2, 'c1'), (0, 'c1'), (2, 'c1'), (2, 'c1'), (2, 'c1'), (0, 'c1'), (2, 'c1'), (2, 'c1'), (2, 'c1'), (2, 'c1'), (2, 'c1'), (0, 'c1'), (0, 'c1'), (2, 'c1'), (2, 'c2'), (2, 'c2'), (2, 'c2'), (0, 'c2'), (0, 'c2'), (0, 'c2'), (0, 'c2'), (0, 'c2'), (2, 'c2'), (0, 'c2'), (2, 'c2'), (0, 'c2'), (2, 'c2'), (0, 'c2'), (0, 'c2'), (0, 'c2'), (2, 'c2'), (2, 'c2'), (0, 'c2'), (2, 'c2'), (0, 'c2'), (2, 'c2'), (0, 'c2'), (2, 'c2'), (2, 'c2'), (2, 'c2'), (0, 'c2'), (0, 'c2'), (2, 'c2'), (0, 'c2'), (0, 'c2'), (0, 'c2'), (2, 'c2'), (2, 'c2'), (0, 'c2'), (2, 'c2'), (2, 'c2'), (2, 'c2'), (2, 'c2'), (2, 'c2'), (2, 'c2'), (0, 'c2'), (0, 'c2'), (0, 'c2'), (2, 'c2'), (0, 'c2'), (0, 'c2'), (0, 'c2'), (2, 'c2'), (0, 'c2'), (1, 'c3'), (1, 'c3'), (1, 'c3'), (1, 'c3'), (1, 'c3'), (1, 'c3'), (1, 'c3'), (1, 'c3'), (1, 'c3'), (1, 'c3'), (1, 'c3'), (1, 'c3'), (1, 'c3'), (1, 'c3'), (1, 'c3'), (1, 'c3'), (1, 'c3'), (1, 'c3'), (1, 'c3'), (1, 'c3'), (1, 'c3'), (1, 'c3'), (1, 'c3'), (1, 'c3'), (1, 'c3')]\n"
     ]
    }
   ],
   "source": [
    "print(\"Outs:{}\".format(list(zip(alg.labels_,population[\"cluster_label\"]))))"
   ]
  },
  {
   "cell_type": "code",
   "execution_count": null,
   "metadata": {
    "collapsed": true
   },
   "outputs": [],
   "source": []
  },
  {
   "cell_type": "markdown",
   "metadata": {},
   "source": [
    "### Try other linkage methods in agglomerative"
   ]
  },
  {
   "cell_type": "code",
   "execution_count": null,
   "metadata": {},
   "outputs": [],
   "source": [
    "linkage_methods=['ward', 'average', 'complete']\n",
    "aggl=lambda x: AgglomerativeClustering(n_clusters=n_clusters, linkage=x)\n",
    "\n"
   ]
  },
  {
   "cell_type": "code",
   "execution_count": null,
   "metadata": {
    "collapsed": true
   },
   "outputs": [],
   "source": []
  }
 ],
 "metadata": {
  "kernelspec": {
   "display_name": "Python 3",
   "language": "python",
   "name": "python3"
  },
  "language_info": {
   "codemirror_mode": {
    "name": "ipython",
    "version": 3
   },
   "file_extension": ".py",
   "mimetype": "text/x-python",
   "name": "python",
   "nbconvert_exporter": "python",
   "pygments_lexer": "ipython3",
   "version": "3.6.1"
  }
 },
 "nbformat": 4,
 "nbformat_minor": 2
}
