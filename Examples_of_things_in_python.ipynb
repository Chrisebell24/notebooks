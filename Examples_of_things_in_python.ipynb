{
 "cells": [
  {
   "cell_type": "markdown",
   "metadata": {},
   "source": [
    "<h1>Kolmogorov-Smirnoff with several distributions</h1>"
   ]
  },
  {
   "cell_type": "code",
   "execution_count": null,
   "metadata": {
    "collapsed": true
   },
   "outputs": [],
   "source": [
    "import numpy as np\n",
    "from math import sqrt\n",
    "from scipy.stats import kstest, ks_2samp, lognorm\n",
    "import scipy.stats\n",
    "\n",
    "def KSSeveralDists(data,dists_and_args,samplesFromDists=100,twosampleKS=True):\n",
    "    returnable={}\n",
    "    for dist in dists_and_args:\n",
    "        try:\n",
    "            if twosampleKS:\n",
    "                try:\n",
    "                    loc=dists_and_args[dist][0]\n",
    "                    scale=dists_and_args[dist][1]\n",
    "                    expression='scipy.stats.'+dist+'.rvs(loc=loc,scale=scale,size=samplesFromDists)'\n",
    "                    sampledDist=eval(expression)\n",
    "                except:\n",
    "                    sc=dists_and_args[dist][0]\n",
    "                    loc=dists_and_args[dist][1]\n",
    "                    scale=dists_and_args[dist][2]\n",
    "                    expression='scipy.stats.'+dist+'.rvs(sc,loc=loc,scale=scale,size=samplesFromDists)'\n",
    "                    sampledDist=eval(expression)\n",
    "                D,p=ks_2samp(data,sampledDist)\n",
    "            else:\n",
    "                D,p=kstest(data,dist,N=samplesFromDists,args=dists_and_args[dist])\n",
    "        except:\n",
    "            continue\n",
    "        returnable[dist]={'KS':D,'p-value':p}\n",
    "    return returnable\n",
    "\n",
    "a=lambda m,std: m-std*sqrt(12.)/2.\n",
    "b=lambda m,std: m+std*sqrt(12.)/2.\n",
    "sz=2000\n",
    "\n",
    "sc=0.5 #shape \n",
    "datax=lognorm.rvs(sc,loc=0.,scale=1.,size=sz)\n",
    "normalargs=(datax.mean(),datax.std())\n",
    "\n",
    "#suppose these are the parameters you wanted to pass for each distribution\n",
    "dists_and_args={'norm':normalargs,\n",
    "               'uniform':(a(*normalargs),b(*normalargs)),\n",
    "               'lognorm':[0.5,0.,1.]\n",
    "              }\n",
    "print \"two sample KS:\"\n",
    "print KSSeveralDists(datax,dists_and_args,samplesFromDists=sz,twosampleKS=True)\n",
    "print \"one sample KS:\"\n",
    "print KSSeveralDists(datax,dists_and_args,samplesFromDists=sz,twosampleKS=False)\n"
   ]
  },
  {
   "cell_type": "markdown",
   "metadata": {},
   "source": [
    "<h1>Akaike and AICc</h1>"
   ]
  },
  {
   "cell_type": "code",
   "execution_count": null,
   "metadata": {
    "collapsed": true
   },
   "outputs": [],
   "source": [
    "from scipy.stats import norm, uniform\n",
    "\n",
    "def AICc(statsdistribution,data,fitted_params=2.):\n",
    "    #statsdistribution is a distribution from scipy.stats\n",
    "    #but for this notebook we will use simply 2-parameter distributions\n",
    "    #more specifically uniform and gaussian\n",
    "    #data is numpy data\n",
    "    k = fitted_params    \n",
    "    logLik = -np.sum( statsdistribution.logpdf(data, loc=data.mean(), scale=data.std()) )\n",
    "    aic = 2.*k - 2.*(logLik)\n",
    "    aicc = aic+(2.*k)*(k+1.)/(len(data)-k-1)\n",
    "    return {'aic':aic, 'aicc':aicc}\n",
    "\n",
    "#given chopped data -a dictionary-\n",
    "for label in ylabelsChopped:\n",
    "    datax=np.array(choppedData[label])\n",
    "    AICs=AICc(norm,datax)\n",
    "    print \"for normal {} {}\".format(label,AICs)\n",
    "    AICs=AICc(uniform,datax)\n",
    "    print \"for uniform {} {}\".format(label,AICs)"
   ]
  },
  {
   "cell_type": "markdown",
   "metadata": {},
   "source": [
    "<h1>Playing with polyfit</h1>"
   ]
  },
  {
   "cell_type": "code",
   "execution_count": null,
   "metadata": {
    "collapsed": true
   },
   "outputs": [],
   "source": [
    "import numpy as np\n",
    "import matplotlib.pyplot as plt\n",
    "\n",
    "def polyfit(datadict,labels):\n",
    "    #polynomial fit to histogram of variable\n",
    "    fig, ax = plt.subplots(len(labels),1,figsize=(15.,25.))\n",
    "    for ind,label in enumerate(labels):\n",
    "        print label\n",
    "        hist,bins=np.histogram(np.array(datadict[label]),bins=200,density=False)\n",
    "        ax[ind].plot(bins[:-1],hist, label='histogram {}'.format(label))\n",
    "        degrees=[10,15,20]\n",
    "        # calculate polynomial\n",
    "        for degree in degrees:\n",
    "            z = np.polyfit(bins[:-1], hist,degree)\n",
    "            #coefs, accessories = poly.polyfit(bins[:-1], hist,degree, full=True)    \n",
    "            #print 'polyfit coefs degree {}: {} other:'.format(degree,coefs)\n",
    "            #print accessories            \n",
    "            #print '\\n'\n",
    "            f = np.poly1d(z)\n",
    "            #f=poly.polyval(bins[:-1],coefs[::-1])\n",
    "            print len(f)\n",
    "            ax[ind].plot(bins[:-1],f(bins[:-1]),label='degree {}'.format(degree))\n",
    "        plt.grid(True)\n",
    "        box = ax[ind].get_position()\n",
    "        ax[ind].set_position([box.x0, box.y0, box.width, box.height*0.90])\n",
    "        ax[ind].legend(bbox_to_anchor=(0., 1.02, 1., .102), loc=3,borderaxespad=0.)\n",
    "    plt.show()\n"
   ]
  },
  {
   "cell_type": "markdown",
   "metadata": {},
   "source": [
    "<h1>Notebook Magics</h1>"
   ]
  },
  {
   "cell_type": "code",
   "execution_count": null,
   "metadata": {
    "collapsed": false,
    "scrolled": true
   },
   "outputs": [],
   "source": [
    "#list notebook magics\n",
    "%lsmagic\n",
    "%env"
   ]
  },
  {
   "cell_type": "markdown",
   "metadata": {},
   "source": [
    "<h1>Using R in python without using Notebook Magics</h1>"
   ]
  },
  {
   "cell_type": "code",
   "execution_count": 8,
   "metadata": {
    "collapsed": false,
    "scrolled": false
   },
   "outputs": [
    {
     "ename": "SyntaxError",
     "evalue": "invalid syntax (<ipython-input-8-c99991a59051>, line 3)",
     "output_type": "error",
     "traceback": [
      "\u001b[0;36m  File \u001b[0;32m\"<ipython-input-8-c99991a59051>\"\u001b[0;36m, line \u001b[0;32m3\u001b[0m\n\u001b[0;31m    import r::r\u001b[0m\n\u001b[0m            ^\u001b[0m\n\u001b[0;31mSyntaxError\u001b[0m\u001b[0;31m:\u001b[0m invalid syntax\n"
     ]
    }
   ],
   "source": [
    "import sys\n",
    "print(sys.prefix)\n",
    "import"
   ]
  },
  {
   "cell_type": "code",
   "execution_count": 1,
   "metadata": {
    "collapsed": false,
    "scrolled": true
   },
   "outputs": [
    {
     "ename": "WindowsError",
     "evalue": "[Error 161] The specified path is invalid",
     "output_type": "error",
     "traceback": [
      "\u001b[0;31m---------------------------------------------------------------------------\u001b[0m",
      "\u001b[0;31mWindowsError\u001b[0m                              Traceback (most recent call last)",
      "\u001b[0;32m<ipython-input-1-6d2a7536d909>\u001b[0m in \u001b[0;36m<module>\u001b[0;34m()\u001b[0m\n\u001b[0;32m----> 1\u001b[0;31m \u001b[1;32mimport\u001b[0m \u001b[0mrpy2\u001b[0m\u001b[1;33m.\u001b[0m\u001b[0minteractive\u001b[0m \u001b[1;32mas\u001b[0m \u001b[0mr\u001b[0m\u001b[1;33m\u001b[0m\u001b[0m\n\u001b[0m\u001b[1;32m      2\u001b[0m \u001b[1;32mimport\u001b[0m \u001b[0mrpy2\u001b[0m\u001b[1;33m.\u001b[0m\u001b[0minteractive\u001b[0m\u001b[1;33m.\u001b[0m\u001b[0mpackages\u001b[0m \u001b[1;31m# this can take few seconds\u001b[0m\u001b[1;33m\u001b[0m\u001b[0m\n\u001b[1;32m      3\u001b[0m \u001b[0mrlib\u001b[0m \u001b[1;33m=\u001b[0m \u001b[0mr\u001b[0m\u001b[1;33m.\u001b[0m\u001b[0mpackages\u001b[0m\u001b[1;33m.\u001b[0m\u001b[0mpackages\u001b[0m\u001b[1;33m\u001b[0m\u001b[0m\n\u001b[1;32m      4\u001b[0m \u001b[1;32mprint\u001b[0m \u001b[0mrlib\u001b[0m\u001b[1;33m\u001b[0m\u001b[0m\n\u001b[1;32m      5\u001b[0m \u001b[0mr\u001b[0m\u001b[1;33m.\u001b[0m\u001b[0mpackages\u001b[0m\u001b[1;33m.\u001b[0m\u001b[0mimportr\u001b[0m\u001b[1;33m(\u001b[0m\u001b[1;34m\"utils\"\u001b[0m\u001b[1;33m)\u001b[0m\u001b[1;33m\u001b[0m\u001b[0m\n",
      "\u001b[0;32mC:\\Program Files\\Anaconda2\\lib\\site-packages\\rpy2\\interactive\\__init__.py\u001b[0m in \u001b[0;36m<module>\u001b[0;34m()\u001b[0m\n\u001b[1;32m     11\u001b[0m \u001b[1;32mfrom\u001b[0m \u001b[0mcollections\u001b[0m \u001b[1;32mimport\u001b[0m \u001b[0mOrderedDict\u001b[0m\u001b[1;33m\u001b[0m\u001b[0m\n\u001b[1;32m     12\u001b[0m \u001b[1;33m\u001b[0m\u001b[0m\n\u001b[0;32m---> 13\u001b[0;31m \u001b[1;32mfrom\u001b[0m \u001b[0mrpy2\u001b[0m\u001b[1;33m.\u001b[0m\u001b[0mrobjects\u001b[0m\u001b[1;33m.\u001b[0m\u001b[0mpackages\u001b[0m \u001b[1;32mimport\u001b[0m \u001b[0m_loaded_namespaces\u001b[0m\u001b[1;33m\u001b[0m\u001b[0m\n\u001b[0m\u001b[1;32m     14\u001b[0m \u001b[1;32mfrom\u001b[0m \u001b[0mrpy2\u001b[0m\u001b[1;33m.\u001b[0m\u001b[0mrobjects\u001b[0m\u001b[1;33m.\u001b[0m\u001b[0mvectors\u001b[0m \u001b[1;32mimport\u001b[0m \u001b[0mIntVector\u001b[0m\u001b[1;33m,\u001b[0m \u001b[0mFloatVector\u001b[0m\u001b[1;33m,\u001b[0m \u001b[0mComplexVector\u001b[0m\u001b[1;33m\u001b[0m\u001b[0m\n\u001b[1;32m     15\u001b[0m \u001b[1;32mfrom\u001b[0m \u001b[0mrpy2\u001b[0m\u001b[1;33m.\u001b[0m\u001b[0mrobjects\u001b[0m\u001b[1;33m.\u001b[0m\u001b[0mvectors\u001b[0m \u001b[1;32mimport\u001b[0m \u001b[0mArray\u001b[0m\u001b[1;33m,\u001b[0m \u001b[0mMatrix\u001b[0m\u001b[1;33m\u001b[0m\u001b[0m\n",
      "\u001b[0;32mC:\\Program Files\\Anaconda2\\lib\\site-packages\\rpy2\\robjects\\__init__.py\u001b[0m in \u001b[0;36m<module>\u001b[0;34m()\u001b[0m\n\u001b[1;32m     13\u001b[0m \u001b[1;32mimport\u001b[0m \u001b[0mitertools\u001b[0m\u001b[1;33m\u001b[0m\u001b[0m\n\u001b[1;32m     14\u001b[0m \u001b[1;32mfrom\u001b[0m \u001b[0mdatetime\u001b[0m \u001b[1;32mimport\u001b[0m \u001b[0mdatetime\u001b[0m\u001b[1;33m\u001b[0m\u001b[0m\n\u001b[0;32m---> 15\u001b[0;31m \u001b[1;32mimport\u001b[0m \u001b[0mrpy2\u001b[0m\u001b[1;33m.\u001b[0m\u001b[0mrinterface\u001b[0m \u001b[1;32mas\u001b[0m \u001b[0mrinterface\u001b[0m\u001b[1;33m\u001b[0m\u001b[0m\n\u001b[0m\u001b[1;32m     16\u001b[0m \u001b[1;32mimport\u001b[0m \u001b[0mrpy2\u001b[0m\u001b[1;33m.\u001b[0m\u001b[0mrlike\u001b[0m\u001b[1;33m.\u001b[0m\u001b[0mcontainer\u001b[0m \u001b[1;32mas\u001b[0m \u001b[0mrlc\u001b[0m\u001b[1;33m\u001b[0m\u001b[0m\n\u001b[1;32m     17\u001b[0m \u001b[1;33m\u001b[0m\u001b[0m\n",
      "\u001b[0;32mC:\\Program Files\\Anaconda2\\lib\\site-packages\\rpy2\\rinterface\\__init__.py\u001b[0m in \u001b[0;36m<module>\u001b[0;34m()\u001b[0m\n\u001b[1;32m     72\u001b[0m         \u001b[1;32mif\u001b[0m \u001b[1;32mnot\u001b[0m \u001b[0mos\u001b[0m\u001b[1;33m.\u001b[0m\u001b[0mpath\u001b[0m\u001b[1;33m.\u001b[0m\u001b[0mexists\u001b[0m\u001b[1;33m(\u001b[0m\u001b[0mRlib\u001b[0m\u001b[1;33m)\u001b[0m\u001b[1;33m:\u001b[0m\u001b[1;33m\u001b[0m\u001b[0m\n\u001b[1;32m     73\u001b[0m             \u001b[1;32mcontinue\u001b[0m\u001b[1;33m\u001b[0m\u001b[0m\n\u001b[0;32m---> 74\u001b[0;31m         \u001b[0mctypes\u001b[0m\u001b[1;33m.\u001b[0m\u001b[0mCDLL\u001b[0m\u001b[1;33m(\u001b[0m\u001b[0mRlib\u001b[0m\u001b[1;33m)\u001b[0m\u001b[1;33m\u001b[0m\u001b[0m\n\u001b[0m\u001b[1;32m     75\u001b[0m         \u001b[0m_win_ok\u001b[0m \u001b[1;33m=\u001b[0m \u001b[0mTrue\u001b[0m\u001b[1;33m\u001b[0m\u001b[0m\n\u001b[1;32m     76\u001b[0m         \u001b[1;32mbreak\u001b[0m\u001b[1;33m\u001b[0m\u001b[0m\n",
      "\u001b[0;32mC:\\Program Files\\Anaconda2\\lib\\ctypes\\__init__.pyc\u001b[0m in \u001b[0;36m__init__\u001b[0;34m(self, name, mode, handle, use_errno, use_last_error)\u001b[0m\n\u001b[1;32m    360\u001b[0m \u001b[1;33m\u001b[0m\u001b[0m\n\u001b[1;32m    361\u001b[0m         \u001b[1;32mif\u001b[0m \u001b[0mhandle\u001b[0m \u001b[1;32mis\u001b[0m \u001b[0mNone\u001b[0m\u001b[1;33m:\u001b[0m\u001b[1;33m\u001b[0m\u001b[0m\n\u001b[0;32m--> 362\u001b[0;31m             \u001b[0mself\u001b[0m\u001b[1;33m.\u001b[0m\u001b[0m_handle\u001b[0m \u001b[1;33m=\u001b[0m \u001b[0m_dlopen\u001b[0m\u001b[1;33m(\u001b[0m\u001b[0mself\u001b[0m\u001b[1;33m.\u001b[0m\u001b[0m_name\u001b[0m\u001b[1;33m,\u001b[0m \u001b[0mmode\u001b[0m\u001b[1;33m)\u001b[0m\u001b[1;33m\u001b[0m\u001b[0m\n\u001b[0m\u001b[1;32m    363\u001b[0m         \u001b[1;32melse\u001b[0m\u001b[1;33m:\u001b[0m\u001b[1;33m\u001b[0m\u001b[0m\n\u001b[1;32m    364\u001b[0m             \u001b[0mself\u001b[0m\u001b[1;33m.\u001b[0m\u001b[0m_handle\u001b[0m \u001b[1;33m=\u001b[0m \u001b[0mhandle\u001b[0m\u001b[1;33m\u001b[0m\u001b[0m\n",
      "\u001b[0;31mWindowsError\u001b[0m: [Error 161] The specified path is invalid"
     ]
    }
   ],
   "source": [
    "import rpy2.interactive as r\n",
    "import rpy2.interactive.packages # this can take few seconds\n",
    "rlib = r.packages.packages\n",
    "print rlib\n",
    "r.packages.importr(\"utils\")\n",
    "\n"
   ]
  },
  {
   "cell_type": "markdown",
   "metadata": {},
   "source": [
    "<h1>Simple Plotting</h1>"
   ]
  },
  {
   "cell_type": "code",
   "execution_count": null,
   "metadata": {
    "collapsed": false
   },
   "outputs": [],
   "source": [
    "import numpy as np\n",
    "import matplotlib.pyplot as plt\n",
    "print plt.style.available\n",
    "plt.style.use('seaborn-notebook')\n",
    "x=np.linspace(-2.,2.)\n",
    "y=x**3\n",
    "plt.hist(y,bins=50, alpha=0.5, label='histogram x to the power of 3', histtype='stepfilled'\n",
    "         #)\n",
    "          ,normed=True)\n",
    "plt.plot(x, y, 'r--', label='x to the power of 3')\n",
    "plt.grid()\n",
    "plt.legend()\n",
    "plt.show()"
   ]
  },
  {
   "cell_type": "markdown",
   "metadata": {},
   "source": [
    "<h1>Plotting GEV CDF and PDF</h1>"
   ]
  },
  {
   "cell_type": "code",
   "execution_count": null,
   "metadata": {
    "collapsed": false
   },
   "outputs": [],
   "source": [
    "import numpy as np\n",
    "from math import exp\n",
    "import matplotlib.pyplot as plt\n",
    "plt.style.use('seaborn-notebook')\n",
    "\n",
    "par={'mu':0.,'sigma':1.}\n",
    "xi=[-0.5,0.,0.5]\n",
    "rangeX=np.linspace(-2.5,2.5,num=200)\n",
    "fig, (ax1, ax2) = plt.subplots(2,1,figsize=(9.5, 9.5))\n",
    "fig.suptitle('CDF and PDF for GEV and different shape parameter values')\n",
    "#fig = plt.figure(figsize=(20, 20))\n",
    "t0=lambda y: exp(-(y-par['mu'])/par['sigma'])\n",
    "tx=lambda y,xi_i: (1.+xi_i*(y-par['mu'])/par['sigma'])**(-1./xi_i)\n",
    "\n",
    "#fig.add_subplot(2,1,1)\n",
    "for xi_i in xi:\n",
    "    if xi_i > 0.0 or xi_i <0.0: #safer float comparison for xi_i==0\n",
    "        H_cdf=lambda x: exp(-tx(x,xi_i))\n",
    "        H_pdf=lambda x: ((1./par['sigma'])*(tx(x,xi_i))**(xi_i+1.))*exp(-tx(x,xi_i))\n",
    "    else:\n",
    "        H_cdf=lambda x: exp(-t0(x))\n",
    "        H_pdf=lambda x: ((1./par['sigma'])*(t0(x))**(xi_i+1.))*exp(-t0(x))\n",
    "    gev_cdf=np.array([H_cdf(x) for x in rangeX])\n",
    "    gev_pdf=np.array([H_pdf(x) for x in rangeX])\n",
    "    ax1.plot(rangeX, gev_cdf, '-', label='cdf shape {}'.format(xi_i))\n",
    "    ax2.plot(rangeX, gev_pdf, '-', label='pdf shape {}'.format(xi_i))\n",
    "ax1.legend()\n",
    "plt.grid()\n",
    "ax2.legend()\n",
    "plt.grid()\n",
    "plt.show()"
   ]
  },
  {
   "cell_type": "code",
   "execution_count": null,
   "metadata": {
    "collapsed": true
   },
   "outputs": [],
   "source": []
  }
 ],
 "metadata": {
  "anaconda-cloud": {},
  "kernelspec": {
   "display_name": "Python [conda root]",
   "language": "python",
   "name": "conda-root-py"
  },
  "language_info": {
   "codemirror_mode": {
    "name": "ipython",
    "version": 2
   },
   "file_extension": ".py",
   "mimetype": "text/x-python",
   "name": "python",
   "nbconvert_exporter": "python",
   "pygments_lexer": "ipython2",
   "version": "2.7.12"
  }
 },
 "nbformat": 4,
 "nbformat_minor": 1
}
