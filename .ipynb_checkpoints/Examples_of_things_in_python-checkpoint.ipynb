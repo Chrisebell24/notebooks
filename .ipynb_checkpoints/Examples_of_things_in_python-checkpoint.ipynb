{
 "cells": [
  {
   "cell_type": "markdown",
   "metadata": {},
   "source": [
    "<h1>Some Input Data</h1>"
   ]
  },
  {
   "cell_type": "code",
   "execution_count": 18,
   "metadata": {
    "collapsed": false,
    "scrolled": true
   },
   "outputs": [],
   "source": [
    "ylabelsChopped=['l1','l4']\n",
    "choppedData={'l1':[1.,3.,5.,3.,6.,8.,9.,6.,4.,3.,4.,6.,8.,9.,5.,3.,2.,3.,4.,3.,5.,6.,4.,6.,0.,9.,6.],\n",
    "             'l2':[5.,6.,6.,4.,3.,5.,7.,4.,3.,5.,4.,4.,5.,4.,3.,4.,5.,6.,4.,4.,3.,4.,5.,5.,4.,3.,5.],\n",
    "             'l3':[4.,55.,754.,54.,2.,1.,2.,3.,10.,22.,22.,200.,11.,-1.,0.,88.,90.,150.,22.,2.,6.,9.],\n",
    "             'l4':[5.,5.,5.1,5.2,5.,4.9,4.8,5.]}"
   ]
  },
  {
   "cell_type": "markdown",
   "metadata": {},
   "source": [
    "<h1>Kolmogorov-Smirnoff with several distributions</h1>"
   ]
  },
  {
   "cell_type": "code",
   "execution_count": 7,
   "metadata": {
    "collapsed": false
   },
   "outputs": [
    {
     "name": "stdout",
     "output_type": "stream",
     "text": [
      "two sample KS:\n",
      "{'lognorm': {'KS': 0.023500000000000021, 'p-value': 0.63384188886454917}, 'norm': {'KS': 0.1130000000000001, 'p-value': 1.3281084004695013e-11}, 'uniform': {'KS': 0.1695000000000001, 'p-value': 1.4157544445381855e-25}}\n",
      "one sample KS:\n",
      "{'lognorm': {'KS': 0.019475227656676863, 'p-value': 0.43405079242714578}, 'norm': {'KS': 0.10914214640176989, 'p-value': 0.0}, 'uniform': {'KS': 0.15749094218789517, 'p-value': 0.0}}\n"
     ]
    }
   ],
   "source": [
    "import numpy as np\n",
    "from math import sqrt\n",
    "from scipy.stats import kstest, ks_2samp, lognorm\n",
    "import scipy.stats\n",
    "\n",
    "def KSSeveralDists(data,dists_and_args,samplesFromDists=100,twosampleKS=True):\n",
    "    returnable={}\n",
    "    for dist in dists_and_args:\n",
    "        try:\n",
    "            if twosampleKS:\n",
    "                try:\n",
    "                    loc=dists_and_args[dist][0]\n",
    "                    scale=dists_and_args[dist][1]\n",
    "                    expression='scipy.stats.'+dist+'.rvs(loc=loc,scale=scale,size=samplesFromDists)'\n",
    "                    sampledDist=eval(expression)\n",
    "                except:\n",
    "                    sc=dists_and_args[dist][0]\n",
    "                    loc=dists_and_args[dist][1]\n",
    "                    scale=dists_and_args[dist][2]\n",
    "                    expression='scipy.stats.'+dist+'.rvs(sc,loc=loc,scale=scale,size=samplesFromDists)'\n",
    "                    sampledDist=eval(expression)\n",
    "                D,p=ks_2samp(data,sampledDist)\n",
    "            else:\n",
    "                D,p=kstest(data,dist,N=samplesFromDists,args=dists_and_args[dist])\n",
    "        except:\n",
    "            continue\n",
    "        returnable[dist]={'KS':D,'p-value':p}\n",
    "    return returnable\n",
    "\n",
    "a=lambda m,std: m-std*sqrt(12.)/2.\n",
    "b=lambda m,std: m+std*sqrt(12.)/2.\n",
    "sz=2000\n",
    "\n",
    "sc=0.5 #shape \n",
    "datax=lognorm.rvs(sc,loc=0.,scale=1.,size=sz)\n",
    "normalargs=(datax.mean(),datax.std())\n",
    "\n",
    "#suppose these are the parameters you wanted to pass for each distribution\n",
    "dists_and_args={'norm':normalargs,\n",
    "               'uniform':(a(*normalargs),b(*normalargs)),\n",
    "               'lognorm':[0.5,0.,1.]\n",
    "              }\n",
    "print \"two sample KS:\"\n",
    "print KSSeveralDists(datax,dists_and_args,samplesFromDists=sz,twosampleKS=True)\n",
    "print \"one sample KS:\"\n",
    "print KSSeveralDists(datax,dists_and_args,samplesFromDists=sz,twosampleKS=False)\n"
   ]
  },
  {
   "cell_type": "markdown",
   "metadata": {},
   "source": [
    "<h1>Akaike and AICc</h1>"
   ]
  },
  {
   "cell_type": "code",
   "execution_count": 19,
   "metadata": {
    "collapsed": false
   },
   "outputs": [
    {
     "name": "stdout",
     "output_type": "stream",
     "text": [
      "-121.370915984\n",
      "for normal l1 {'aicc': -118.3153604287008, 'aic': -118.8153604287008}\n",
      "-inf\n",
      "for uniform l1 {'aicc': -inf, 'aic': -inf}\n",
      "14.8531965461\n",
      "for normal l4 {'aicc': 18.753196546116293, 'aic': 16.353196546116294}\n",
      "-inf\n",
      "for uniform l4 {'aicc': -inf, 'aic': -inf}\n"
     ]
    }
   ],
   "source": [
    "from scipy.stats import norm, uniform\n",
    "\n",
    "def AICc(statsdistribution,data,fitted_params=2.):\n",
    "    #statsdistribution is a distribution from scipy.stats\n",
    "    #but for this notebook we will use simply 2-parameter distributions\n",
    "    #more specifically uniform and gaussian\n",
    "    #data is numpy data\n",
    "    k = fitted_params    \n",
    "    logLik = -np.sum( statsdistribution.logpdf(data, loc=data.mean(), scale=data.std()) )\n",
    "    aic = 2.*k - 2.*(logLik)\n",
    "    print aic+(2.*k)*(k+1.)/len(data)-k-1.\n",
    "    aicc = aic+(2.*k)*(k+1.)/(len(data)-k-1.)\n",
    "    return {'aic':aic, 'aicc':aicc}\n",
    "\n",
    "\n",
    "for label in ylabelsChopped:\n",
    "    datax=np.array(choppedData[label])\n",
    "    AICs=AICc(norm,datax)\n",
    "    print \"for normal {} {}\".format(label,AICs)\n",
    "    AICs=AICc(uniform,datax)\n",
    "    print \"for uniform {} {}\".format(label,AICs)"
   ]
  },
  {
   "cell_type": "markdown",
   "metadata": {},
   "source": [
    "<h1>Playing with polyfit</h1>"
   ]
  },
  {
   "cell_type": "code",
   "execution_count": null,
   "metadata": {
    "collapsed": true
   },
   "outputs": [],
   "source": [
    "import numpy as np\n",
    "import matplotlib.pyplot as plt\n",
    "\n",
    "def polyfit(datadict,labels):\n",
    "    #polynomial fit to histogram of variable\n",
    "    fig, ax = plt.subplots(len(labels),1,figsize=(15.,25.))\n",
    "    for ind,label in enumerate(labels):\n",
    "        print label\n",
    "        hist,bins=np.histogram(np.array(datadict[label]),bins=200,density=False)\n",
    "        ax[ind].plot(bins[:-1],hist, label='histogram {}'.format(label))\n",
    "        degrees=[10,15,20]\n",
    "        # calculate polynomial\n",
    "        for degree in degrees:\n",
    "            z = np.polyfit(bins[:-1], hist,degree)\n",
    "            #coefs, accessories = poly.polyfit(bins[:-1], hist,degree, full=True)    \n",
    "            #print 'polyfit coefs degree {}: {} other:'.format(degree,coefs)\n",
    "            #print accessories            \n",
    "            #print '\\n'\n",
    "            f = np.poly1d(z)\n",
    "            #f=poly.polyval(bins[:-1],coefs[::-1])\n",
    "            print len(f)\n",
    "            ax[ind].plot(bins[:-1],f(bins[:-1]),label='degree {}'.format(degree))\n",
    "        plt.grid(True)\n",
    "        box = ax[ind].get_position()\n",
    "        ax[ind].set_position([box.x0, box.y0, box.width, box.height*0.90])\n",
    "        ax[ind].legend(bbox_to_anchor=(0., 1.02, 1., .102), loc=3,borderaxespad=0.)\n",
    "    plt.show()\n"
   ]
  },
  {
   "cell_type": "markdown",
   "metadata": {},
   "source": [
    "<h1>Notebook Magics</h1>"
   ]
  },
  {
   "cell_type": "code",
   "execution_count": 22,
   "metadata": {
    "collapsed": false,
    "scrolled": true
   },
   "outputs": [
    {
     "data": {
      "application/json": {
       "cell": {
        "!": "OSMagics",
        "HTML": "Other",
        "SVG": "Other",
        "bash": "Other",
        "capture": "ExecutionMagics",
        "debug": "ExecutionMagics",
        "file": "Other",
        "html": "DisplayMagics",
        "javascript": "DisplayMagics",
        "js": "DisplayMagics",
        "latex": "DisplayMagics",
        "perl": "Other",
        "prun": "ExecutionMagics",
        "pypy": "Other",
        "python": "Other",
        "python2": "Other",
        "python3": "Other",
        "ruby": "Other",
        "script": "ScriptMagics",
        "sh": "Other",
        "svg": "DisplayMagics",
        "sx": "OSMagics",
        "system": "OSMagics",
        "time": "ExecutionMagics",
        "timeit": "ExecutionMagics",
        "writefile": "OSMagics"
       },
       "line": {
        "alias": "OSMagics",
        "alias_magic": "BasicMagics",
        "autocall": "AutoMagics",
        "automagic": "AutoMagics",
        "autosave": "KernelMagics",
        "bookmark": "OSMagics",
        "cat": "Other",
        "cd": "OSMagics",
        "clear": "KernelMagics",
        "colors": "BasicMagics",
        "config": "ConfigMagics",
        "connect_info": "KernelMagics",
        "cp": "Other",
        "debug": "ExecutionMagics",
        "dhist": "OSMagics",
        "dirs": "OSMagics",
        "doctest_mode": "BasicMagics",
        "ed": "Other",
        "edit": "KernelMagics",
        "env": "OSMagics",
        "gui": "BasicMagics",
        "hist": "Other",
        "history": "HistoryMagics",
        "killbgscripts": "ScriptMagics",
        "ldir": "Other",
        "less": "KernelMagics",
        "lf": "Other",
        "lk": "Other",
        "ll": "Other",
        "load": "CodeMagics",
        "load_ext": "ExtensionMagics",
        "loadpy": "CodeMagics",
        "logoff": "LoggingMagics",
        "logon": "LoggingMagics",
        "logstart": "LoggingMagics",
        "logstate": "LoggingMagics",
        "logstop": "LoggingMagics",
        "ls": "Other",
        "lsmagic": "BasicMagics",
        "lx": "Other",
        "macro": "ExecutionMagics",
        "magic": "BasicMagics",
        "man": "KernelMagics",
        "matplotlib": "PylabMagics",
        "mkdir": "Other",
        "more": "KernelMagics",
        "mv": "Other",
        "notebook": "BasicMagics",
        "page": "BasicMagics",
        "pastebin": "CodeMagics",
        "pdb": "ExecutionMagics",
        "pdef": "NamespaceMagics",
        "pdoc": "NamespaceMagics",
        "pfile": "NamespaceMagics",
        "pinfo": "NamespaceMagics",
        "pinfo2": "NamespaceMagics",
        "popd": "OSMagics",
        "pprint": "BasicMagics",
        "precision": "BasicMagics",
        "profile": "BasicMagics",
        "prun": "ExecutionMagics",
        "psearch": "NamespaceMagics",
        "psource": "NamespaceMagics",
        "pushd": "OSMagics",
        "pwd": "OSMagics",
        "pycat": "OSMagics",
        "pylab": "PylabMagics",
        "qtconsole": "KernelMagics",
        "quickref": "BasicMagics",
        "recall": "HistoryMagics",
        "rehashx": "OSMagics",
        "reload_ext": "ExtensionMagics",
        "rep": "Other",
        "rerun": "HistoryMagics",
        "reset": "NamespaceMagics",
        "reset_selective": "NamespaceMagics",
        "rm": "Other",
        "rmdir": "Other",
        "run": "ExecutionMagics",
        "save": "CodeMagics",
        "sc": "OSMagics",
        "set_env": "OSMagics",
        "store": "StoreMagics",
        "sx": "OSMagics",
        "system": "OSMagics",
        "tb": "ExecutionMagics",
        "time": "ExecutionMagics",
        "timeit": "ExecutionMagics",
        "unalias": "OSMagics",
        "unload_ext": "ExtensionMagics",
        "who": "NamespaceMagics",
        "who_ls": "NamespaceMagics",
        "whos": "NamespaceMagics",
        "xdel": "NamespaceMagics",
        "xmode": "BasicMagics"
       }
      },
      "text/plain": [
       "Available line magics:\n",
       "%alias  %alias_magic  %autocall  %automagic  %autosave  %bookmark  %cat  %cd  %clear  %colors  %config  %connect_info  %cp  %debug  %dhist  %dirs  %doctest_mode  %ed  %edit  %env  %gui  %hist  %history  %killbgscripts  %ldir  %less  %lf  %lk  %ll  %load  %load_ext  %loadpy  %logoff  %logon  %logstart  %logstate  %logstop  %ls  %lsmagic  %lx  %macro  %magic  %man  %matplotlib  %mkdir  %more  %mv  %notebook  %page  %pastebin  %pdb  %pdef  %pdoc  %pfile  %pinfo  %pinfo2  %popd  %pprint  %precision  %profile  %prun  %psearch  %psource  %pushd  %pwd  %pycat  %pylab  %qtconsole  %quickref  %recall  %rehashx  %reload_ext  %rep  %rerun  %reset  %reset_selective  %rm  %rmdir  %run  %save  %sc  %set_env  %store  %sx  %system  %tb  %time  %timeit  %unalias  %unload_ext  %who  %who_ls  %whos  %xdel  %xmode\n",
       "\n",
       "Available cell magics:\n",
       "%%!  %%HTML  %%SVG  %%bash  %%capture  %%debug  %%file  %%html  %%javascript  %%js  %%latex  %%perl  %%prun  %%pypy  %%python  %%python2  %%python3  %%ruby  %%script  %%sh  %%svg  %%sx  %%system  %%time  %%timeit  %%writefile\n",
       "\n",
       "Automagic is ON, % prefix IS NOT needed for line magics."
      ]
     },
     "execution_count": 22,
     "metadata": {},
     "output_type": "execute_result"
    }
   ],
   "source": [
    "#list notebook magics\n",
    "%lsmagic\n"
   ]
  },
  {
   "cell_type": "markdown",
   "metadata": {},
   "source": [
    "<h1>Using R in python without using Notebook Magics</h1>"
   ]
  },
  {
   "cell_type": "code",
   "execution_count": 20,
   "metadata": {
    "collapsed": false,
    "scrolled": true
   },
   "outputs": [
    {
     "name": "stdout",
     "output_type": "stream",
     "text": [
      "<rpy2.interactive.packages.Packages object at 0x7fa20cae4090>\n"
     ]
    },
    {
     "data": {
      "text/plain": [
       "rpy2.robjects.packages.Package as a <module 'utils' (built-in)>"
      ]
     },
     "execution_count": 20,
     "metadata": {},
     "output_type": "execute_result"
    }
   ],
   "source": [
    "import rpy2.interactive as r\n",
    "import rpy2.interactive.packages # this can take few seconds\n",
    "rlib = r.packages.packages\n",
    "print rlib\n",
    "r.packages.importr(\"utils\")\n",
    "\n"
   ]
  },
  {
   "cell_type": "markdown",
   "metadata": {},
   "source": [
    "<h1>Simple Plotting</h1>"
   ]
  },
  {
   "cell_type": "code",
   "execution_count": null,
   "metadata": {
    "collapsed": false
   },
   "outputs": [],
   "source": [
    "import numpy as np\n",
    "import matplotlib.pyplot as plt\n",
    "print plt.style.available\n",
    "plt.style.use('seaborn-notebook')\n",
    "x=np.linspace(-2.,2.)\n",
    "y=x**3\n",
    "plt.hist(y,bins=50, alpha=0.5, label='histogram x to the power of 3', histtype='stepfilled'\n",
    "         #)\n",
    "          ,normed=True)\n",
    "plt.plot(x, y, 'r--', label='x to the power of 3')\n",
    "plt.grid()\n",
    "plt.legend()\n",
    "plt.show()"
   ]
  },
  {
   "cell_type": "markdown",
   "metadata": {},
   "source": [
    "<h1>Plotting GEV CDF and PDF</h1>"
   ]
  },
  {
   "cell_type": "code",
   "execution_count": null,
   "metadata": {
    "collapsed": false
   },
   "outputs": [],
   "source": [
    "import numpy as np\n",
    "from math import exp\n",
    "import matplotlib.pyplot as plt\n",
    "plt.style.use('seaborn-notebook')\n",
    "\n",
    "par={'mu':0.,'sigma':1.}\n",
    "xi=[-0.5,0.,0.5]\n",
    "rangeX=np.linspace(-2.5,2.5,num=200)\n",
    "fig, (ax1, ax2) = plt.subplots(2,1,figsize=(9.5, 9.5))\n",
    "fig.suptitle('CDF and PDF for GEV and different shape parameter values')\n",
    "#fig = plt.figure(figsize=(20, 20))\n",
    "t0=lambda y: exp(-(y-par['mu'])/par['sigma'])\n",
    "tx=lambda y,xi_i: (1.+xi_i*(y-par['mu'])/par['sigma'])**(-1./xi_i)\n",
    "\n",
    "#fig.add_subplot(2,1,1)\n",
    "for xi_i in xi:\n",
    "    if xi_i > 0.0 or xi_i <0.0: #safer float comparison for xi_i==0\n",
    "        H_cdf=lambda x: exp(-tx(x,xi_i))\n",
    "        H_pdf=lambda x: ((1./par['sigma'])*(tx(x,xi_i))**(xi_i+1.))*exp(-tx(x,xi_i))\n",
    "    else:\n",
    "        H_cdf=lambda x: exp(-t0(x))\n",
    "        H_pdf=lambda x: ((1./par['sigma'])*(t0(x))**(xi_i+1.))*exp(-t0(x))\n",
    "    gev_cdf=np.array([H_cdf(x) for x in rangeX])\n",
    "    gev_pdf=np.array([H_pdf(x) for x in rangeX])\n",
    "    ax1.plot(rangeX, gev_cdf, '-', label='cdf shape {}'.format(xi_i))\n",
    "    ax2.plot(rangeX, gev_pdf, '-', label='pdf shape {}'.format(xi_i))\n",
    "ax1.legend()\n",
    "plt.grid()\n",
    "ax2.legend()\n",
    "plt.grid()\n",
    "plt.show()"
   ]
  },
  {
   "cell_type": "code",
   "execution_count": null,
   "metadata": {
    "collapsed": true
   },
   "outputs": [],
   "source": []
  }
 ],
 "metadata": {
  "anaconda-cloud": {},
  "kernelspec": {
   "display_name": "Python [conda root]",
   "language": "python",
   "name": "conda-root-py"
  },
  "language_info": {
   "codemirror_mode": {
    "name": "ipython",
    "version": 2
   },
   "file_extension": ".py",
   "mimetype": "text/x-python",
   "name": "python",
   "nbconvert_exporter": "python",
   "pygments_lexer": "ipython2",
   "version": "2.7.12"
  }
 },
 "nbformat": 4,
 "nbformat_minor": 1
}
