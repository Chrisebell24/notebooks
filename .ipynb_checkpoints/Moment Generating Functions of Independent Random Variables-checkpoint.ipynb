{
 "cells": [
  {
   "cell_type": "markdown",
   "metadata": {},
   "source": [
    "<h1>Moment Generating Functions of products of Independent Random Varibles</h1>"
   ]
  },
  {
   "cell_type": "markdown",
   "metadata": {},
   "source": [
    "I hope this answer helps by giving an alternate way to look at the problem. \n",
    "\n",
    "Under independence, $E[XY]=E[X]*E[Y]$.\n",
    "\n",
    "One of your rv is uniform. For uniform distributions, the expected value tends to the mean. Assuming that such variable is $X$, $E[XY]$ tends to be $\\mu_X*E[Y]$.\n",
    "\n",
    "Now, taking the chi square as $Y$, we can exploit the fact that $\\chi^2$ is \n",
    "supported in $[0,+\\inf)$, and use:\n",
    "\n",
    "$E[Y] = \\int{_0^{inf}(1-CDF_Y(y)) dy} = \\int{_0^{inf}(1-P(\\frac{k}{2},\\frac{y}{2})) dy}$\n",
    "\n",
    "Which will lead to:\n",
    "\n",
    "$E[XY]=\\mu_X * \\int{_0^{inf}(1-P(\\frac{k}{2},\\frac{y}{2})) dy}$\n",
    "\n",
    "$E[Z]=\\mu_X * \\int{_0^{inf}(1-P(\\frac{k}{2},\\frac{y}{2})) dy}$\n",
    "\n",
    "In which P is the regularised gamma function (see here: https://en.wikipedia.org/wiki/Chi-squared_distribution#Gamma.2C_exponential.2C_and_related_distributions)\n",
    "\n",
    "So you got yourself an analytical expresion for the expectation of the product of X and Y! And with that expression, you can construct a moment generating function. Which is not directly an expression for the density function, but it can be an alternative. \n",
    "\n",
    "These were my two cents :)\n",
    "\n",
    "**edit**: Expanding more on how will this help building a moment generating function. \n",
    " Independence is a big assumption. Is so big that we could use it in the following way: assuming that Y is independent to Y, X to X, Y to X and X to Y, and their products independent to all combinations of each other, then there is no reason why the following would not hold:\n",
    "\n",
    "$E[XY X] = E[XY]E[X]$\n",
    "\n",
    "and furthermore:\n",
    "\n",
    "$E[XY XY] = E[XY] E[XY] = E[(XY)^2]$\n",
    "\n",
    "The expected values of the powers of XY are the moments of XY. So that is the reasoning behind the answer. \n",
    "\n"
   ]
  },
  {
   "cell_type": "markdown",
   "metadata": {},
   "source": [
    "Now: Test the math."
   ]
  },
  {
   "cell_type": "code",
   "execution_count": null,
   "metadata": {
    "collapsed": false
   },
   "outputs": [],
   "source": [
    "from scipy.stats import chisquare, norm\n",
    "import pprint\n",
    "from inspect import getmembers\n",
    "\n",
    "\n",
    "\n",
    "\n",
    "pp=pprint.PrettyPrinter(indent=4)\n",
    "a=getmembers(norm)\n",
    "pp.pprint(a)\n"
   ]
  },
  {
   "cell_type": "code",
   "execution_count": null,
   "metadata": {
    "collapsed": true
   },
   "outputs": [],
   "source": []
  },
  {
   "cell_type": "code",
   "execution_count": null,
   "metadata": {
    "collapsed": true
   },
   "outputs": [],
   "source": []
  }
 ],
 "metadata": {
  "anaconda-cloud": {},
  "kernelspec": {
   "display_name": "Python [conda root]",
   "language": "python",
   "name": "conda-root-py"
  },
  "language_info": {
   "codemirror_mode": {
    "name": "ipython",
    "version": 2
   },
   "file_extension": ".py",
   "mimetype": "text/x-python",
   "name": "python",
   "nbconvert_exporter": "python",
   "pygments_lexer": "ipython2",
   "version": "2.7.12"
  }
 },
 "nbformat": 4,
 "nbformat_minor": 1
}
